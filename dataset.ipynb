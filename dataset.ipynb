{
 "cells": [
  {
   "cell_type": "code",
   "execution_count": 1,
   "id": "79d5dff2",
   "metadata": {},
   "outputs": [],
   "source": [
    "import pandas as pd\n",
    "import random"
   ]
  },
  {
   "cell_type": "markdown",
   "id": "36885b94",
   "metadata": {},
   "source": [
    "List of users"
   ]
  },
  {
   "cell_type": "code",
   "execution_count": 2,
   "id": "08e4bc3d",
   "metadata": {},
   "outputs": [],
   "source": [
    "users = ['user_' + str(i) for i in range(1, 11)]"
   ]
  },
  {
   "cell_type": "markdown",
   "id": "8cbe70df",
   "metadata": {},
   "source": [
    "List of movies"
   ]
  },
  {
   "cell_type": "code",
   "execution_count": 3,
   "id": "6b9cc0a8",
   "metadata": {},
   "outputs": [],
   "source": [
    "movies = [\n",
    "    'The Shawshank Redemption', 'The Godfather', 'The Dark Knight', 'Pulp Fiction',\n",
    "    'The Lord of the Rings: The Return of the King', 'Forrest Gump', 'Inception',\n",
    "    'The Matrix', 'Fight Club', 'The Empire Strikes Back', 'Interstellar',\n",
    "    'Gladiator', 'The Green Mile', 'Titanic', 'The Avengers', 'The Lion King',\n",
    "    'Schindler\\'s List', 'Se7en', 'The Silence of the Lambs', 'Saving Private Ryan',\n",
    "    'Back to the Future', 'Jurassic Park', 'The Terminator', 'Finding Nemo',\n",
    "    'Toy Story', 'WALL-E', 'Up', 'Brave', 'Inside Out', 'Doctor Strange',\n",
    "    'Avatar', 'Coco', 'Black Panther', 'Iron Man', 'Monsters, Inc.', 'Avengers: Endgame',\n",
    "    'The Wolf of Wall Street', 'Django Unchained', 'The Shining', 'Memento',\n",
    "    'The Departed', 'Whiplash', 'The Prestige', 'Guardians of the Galaxy',\n",
    "    'Alien', 'Inglourious Basterds', 'The Godfather: Part II', 'Shutter Island',\n",
    "    'Blade Runner 2049', 'The Pianist', 'The Social Network', 'Parasite', 'A Beautiful Mind',\n",
    "    'The Grand Budapest Hotel', 'Mad Max: Fury Road', 'The Incredibles', 'Ratatouille',\n",
    "    'The Great Gatsby', 'Slumdog Millionaire', 'The Imitation Game', 'The Revenant',\n",
    "    'Logan', 'La La Land', 'Birdman', 'Spotlight', '12 Years a Slave', 'The King\\'s Speech',\n",
    "    'Gravity', 'Les Misérables', 'The Theory of Everything', 'The Martian', 'Inside Llewyn Davis',\n",
    "    'Her', 'Dunkirk', 'The Big Short', 'Room', 'Brooklyn', 'Lion', 'Three Billboards Outside Ebbing, Missouri',\n",
    "    'Lady Bird', 'Black Swan', 'A Star is Born', 'Bohemian Rhapsody', 'Joker',\n",
    "    '1917', 'Knives Out', 'Once Upon a Time in Hollywood', 'The Irishman', 'Ford v Ferrari',\n",
    "    'Inception', 'Goodfellas', 'The Silence of the Lambs', 'It\\'s a Wonderful Life',\n",
    "    'City of God', 'The Usual Suspects', 'Life Is Beautiful', 'Spirited Away', 'Saving Private Ryan', \n",
    "    'The Green Mile', 'Se7en', 'The Intouchables', 'Modern Times', 'Parasite'\n",
    "]"
   ]
  },
  {
   "cell_type": "code",
   "execution_count": 4,
   "id": "b5c85008",
   "metadata": {},
   "outputs": [],
   "source": [
    "data = []\n",
    "for user in users:\n",
    "    for movie in movies:\n",
    "        rating = round(random.uniform(1, 5), 1)\n",
    "        data.append([user, movie, rating])"
   ]
  },
  {
   "cell_type": "code",
   "execution_count": 5,
   "id": "6982f687",
   "metadata": {},
   "outputs": [],
   "source": [
    "df = pd.DataFrame(data, columns=['userName', 'filmName', 'rating'])"
   ]
  },
  {
   "cell_type": "code",
   "execution_count": 6,
   "id": "733fa15a",
   "metadata": {},
   "outputs": [],
   "source": [
    "file_path = 'movies2.csv'"
   ]
  },
  {
   "cell_type": "code",
   "execution_count": 7,
   "id": "2ca961b8",
   "metadata": {},
   "outputs": [],
   "source": [
    "df.to_csv(file_path, index=False, sep=',')"
   ]
  },
  {
   "cell_type": "code",
   "execution_count": 8,
   "id": "9445aa72",
   "metadata": {},
   "outputs": [
    {
     "name": "stdout",
     "output_type": "stream",
     "text": [
      "The dataset was created and saved as movies.csv file in the specified path.\n"
     ]
    }
   ],
   "source": [
    "print(\"The dataset was created and saved as movies.csv file in the specified path.\")"
   ]
  },
  {
   "cell_type": "code",
   "execution_count": null,
   "id": "fa946b0a",
   "metadata": {},
   "outputs": [],
   "source": []
  }
 ],
 "metadata": {
  "kernelspec": {
   "display_name": "Python 3 (ipykernel)",
   "language": "python",
   "name": "python3"
  },
  "language_info": {
   "codemirror_mode": {
    "name": "ipython",
    "version": 3
   },
   "file_extension": ".py",
   "mimetype": "text/x-python",
   "name": "python",
   "nbconvert_exporter": "python",
   "pygments_lexer": "ipython3",
   "version": "3.11.5"
  }
 },
 "nbformat": 4,
 "nbformat_minor": 5
}
